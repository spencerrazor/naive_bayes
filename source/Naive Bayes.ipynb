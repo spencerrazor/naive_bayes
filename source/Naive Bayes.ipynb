{
 "cells": [
  {
   "cell_type": "markdown",
   "id": "be5db988",
   "metadata": {},
   "source": [
    "# Naive Bayes Algorithm Implementation"
   ]
  },
  {
   "cell_type": "markdown",
   "id": "d1e3fc57",
   "metadata": {},
   "source": [
    "In this project, I am going to explore two different datasets. One dataset is from kaggle and has data about the passengers from the titanic, and whether they survived or not. The other dataset was pulled from UCI's website, which includes data about patients and whether they had cancer or not. We are going to explore the regular version of the naive bayes theorem and the algorithm with smoothing included. We will also try to feature engineer some of our features, determining whether it had a positive or negative effect on the model. The point of this project isn't to try and get the highest accuracy possible by overfitting to the data, but it is to really analyze the datasets and the assumptions made under the data. We are also going to see if in these cases, naive bayes algorithm is actually a good model or not. Let's get started :)"
   ]
  },
  {
   "cell_type": "markdown",
   "id": "d3ad922d",
   "metadata": {},
   "source": [
    "## Import Libraries"
   ]
  },
  {
   "cell_type": "code",
   "execution_count": 1,
   "id": "009a7e3a",
   "metadata": {},
   "outputs": [],
   "source": [
    "import pandas as pd\n",
    "import numpy as np\n",
    "import matplotlib as plt"
   ]
  },
  {
   "cell_type": "markdown",
   "id": "f112b793",
   "metadata": {},
   "source": [
    "## Titanic Dataset"
   ]
  },
  {
   "cell_type": "markdown",
   "id": "3d36937a",
   "metadata": {},
   "source": [
    "First, we load in the dataset as a dataframe"
   ]
  },
  {
   "cell_type": "code",
   "execution_count": 2,
   "id": "b79a5c46",
   "metadata": {},
   "outputs": [
    {
     "data": {
      "text/html": [
       "<div>\n",
       "<style scoped>\n",
       "    .dataframe tbody tr th:only-of-type {\n",
       "        vertical-align: middle;\n",
       "    }\n",
       "\n",
       "    .dataframe tbody tr th {\n",
       "        vertical-align: top;\n",
       "    }\n",
       "\n",
       "    .dataframe thead th {\n",
       "        text-align: right;\n",
       "    }\n",
       "</style>\n",
       "<table border=\"1\" class=\"dataframe\">\n",
       "  <thead>\n",
       "    <tr style=\"text-align: right;\">\n",
       "      <th></th>\n",
       "      <th>PassengerId</th>\n",
       "      <th>Survived</th>\n",
       "      <th>Pclass</th>\n",
       "      <th>Name</th>\n",
       "      <th>Sex</th>\n",
       "      <th>Age</th>\n",
       "      <th>SibSp</th>\n",
       "      <th>Parch</th>\n",
       "      <th>Ticket</th>\n",
       "      <th>Fare</th>\n",
       "      <th>Cabin</th>\n",
       "      <th>Embarked</th>\n",
       "    </tr>\n",
       "  </thead>\n",
       "  <tbody>\n",
       "    <tr>\n",
       "      <th>0</th>\n",
       "      <td>1</td>\n",
       "      <td>0</td>\n",
       "      <td>3</td>\n",
       "      <td>Braund, Mr. Owen Harris</td>\n",
       "      <td>male</td>\n",
       "      <td>22.0</td>\n",
       "      <td>1</td>\n",
       "      <td>0</td>\n",
       "      <td>A/5 21171</td>\n",
       "      <td>7.2500</td>\n",
       "      <td>NaN</td>\n",
       "      <td>S</td>\n",
       "    </tr>\n",
       "    <tr>\n",
       "      <th>1</th>\n",
       "      <td>2</td>\n",
       "      <td>1</td>\n",
       "      <td>1</td>\n",
       "      <td>Cumings, Mrs. John Bradley (Florence Briggs Th...</td>\n",
       "      <td>female</td>\n",
       "      <td>38.0</td>\n",
       "      <td>1</td>\n",
       "      <td>0</td>\n",
       "      <td>PC 17599</td>\n",
       "      <td>71.2833</td>\n",
       "      <td>C85</td>\n",
       "      <td>C</td>\n",
       "    </tr>\n",
       "    <tr>\n",
       "      <th>2</th>\n",
       "      <td>3</td>\n",
       "      <td>1</td>\n",
       "      <td>3</td>\n",
       "      <td>Heikkinen, Miss. Laina</td>\n",
       "      <td>female</td>\n",
       "      <td>26.0</td>\n",
       "      <td>0</td>\n",
       "      <td>0</td>\n",
       "      <td>STON/O2. 3101282</td>\n",
       "      <td>7.9250</td>\n",
       "      <td>NaN</td>\n",
       "      <td>S</td>\n",
       "    </tr>\n",
       "    <tr>\n",
       "      <th>3</th>\n",
       "      <td>4</td>\n",
       "      <td>1</td>\n",
       "      <td>1</td>\n",
       "      <td>Futrelle, Mrs. Jacques Heath (Lily May Peel)</td>\n",
       "      <td>female</td>\n",
       "      <td>35.0</td>\n",
       "      <td>1</td>\n",
       "      <td>0</td>\n",
       "      <td>113803</td>\n",
       "      <td>53.1000</td>\n",
       "      <td>C123</td>\n",
       "      <td>S</td>\n",
       "    </tr>\n",
       "    <tr>\n",
       "      <th>4</th>\n",
       "      <td>5</td>\n",
       "      <td>0</td>\n",
       "      <td>3</td>\n",
       "      <td>Allen, Mr. William Henry</td>\n",
       "      <td>male</td>\n",
       "      <td>35.0</td>\n",
       "      <td>0</td>\n",
       "      <td>0</td>\n",
       "      <td>373450</td>\n",
       "      <td>8.0500</td>\n",
       "      <td>NaN</td>\n",
       "      <td>S</td>\n",
       "    </tr>\n",
       "    <tr>\n",
       "      <th>...</th>\n",
       "      <td>...</td>\n",
       "      <td>...</td>\n",
       "      <td>...</td>\n",
       "      <td>...</td>\n",
       "      <td>...</td>\n",
       "      <td>...</td>\n",
       "      <td>...</td>\n",
       "      <td>...</td>\n",
       "      <td>...</td>\n",
       "      <td>...</td>\n",
       "      <td>...</td>\n",
       "      <td>...</td>\n",
       "    </tr>\n",
       "    <tr>\n",
       "      <th>886</th>\n",
       "      <td>887</td>\n",
       "      <td>0</td>\n",
       "      <td>2</td>\n",
       "      <td>Montvila, Rev. Juozas</td>\n",
       "      <td>male</td>\n",
       "      <td>27.0</td>\n",
       "      <td>0</td>\n",
       "      <td>0</td>\n",
       "      <td>211536</td>\n",
       "      <td>13.0000</td>\n",
       "      <td>NaN</td>\n",
       "      <td>S</td>\n",
       "    </tr>\n",
       "    <tr>\n",
       "      <th>887</th>\n",
       "      <td>888</td>\n",
       "      <td>1</td>\n",
       "      <td>1</td>\n",
       "      <td>Graham, Miss. Margaret Edith</td>\n",
       "      <td>female</td>\n",
       "      <td>19.0</td>\n",
       "      <td>0</td>\n",
       "      <td>0</td>\n",
       "      <td>112053</td>\n",
       "      <td>30.0000</td>\n",
       "      <td>B42</td>\n",
       "      <td>S</td>\n",
       "    </tr>\n",
       "    <tr>\n",
       "      <th>888</th>\n",
       "      <td>889</td>\n",
       "      <td>0</td>\n",
       "      <td>3</td>\n",
       "      <td>Johnston, Miss. Catherine Helen \"Carrie\"</td>\n",
       "      <td>female</td>\n",
       "      <td>NaN</td>\n",
       "      <td>1</td>\n",
       "      <td>2</td>\n",
       "      <td>W./C. 6607</td>\n",
       "      <td>23.4500</td>\n",
       "      <td>NaN</td>\n",
       "      <td>S</td>\n",
       "    </tr>\n",
       "    <tr>\n",
       "      <th>889</th>\n",
       "      <td>890</td>\n",
       "      <td>1</td>\n",
       "      <td>1</td>\n",
       "      <td>Behr, Mr. Karl Howell</td>\n",
       "      <td>male</td>\n",
       "      <td>26.0</td>\n",
       "      <td>0</td>\n",
       "      <td>0</td>\n",
       "      <td>111369</td>\n",
       "      <td>30.0000</td>\n",
       "      <td>C148</td>\n",
       "      <td>C</td>\n",
       "    </tr>\n",
       "    <tr>\n",
       "      <th>890</th>\n",
       "      <td>891</td>\n",
       "      <td>0</td>\n",
       "      <td>3</td>\n",
       "      <td>Dooley, Mr. Patrick</td>\n",
       "      <td>male</td>\n",
       "      <td>32.0</td>\n",
       "      <td>0</td>\n",
       "      <td>0</td>\n",
       "      <td>370376</td>\n",
       "      <td>7.7500</td>\n",
       "      <td>NaN</td>\n",
       "      <td>Q</td>\n",
       "    </tr>\n",
       "  </tbody>\n",
       "</table>\n",
       "<p>891 rows × 12 columns</p>\n",
       "</div>"
      ],
      "text/plain": [
       "     PassengerId  Survived  Pclass  \\\n",
       "0              1         0       3   \n",
       "1              2         1       1   \n",
       "2              3         1       3   \n",
       "3              4         1       1   \n",
       "4              5         0       3   \n",
       "..           ...       ...     ...   \n",
       "886          887         0       2   \n",
       "887          888         1       1   \n",
       "888          889         0       3   \n",
       "889          890         1       1   \n",
       "890          891         0       3   \n",
       "\n",
       "                                                  Name     Sex   Age  SibSp  \\\n",
       "0                              Braund, Mr. Owen Harris    male  22.0      1   \n",
       "1    Cumings, Mrs. John Bradley (Florence Briggs Th...  female  38.0      1   \n",
       "2                               Heikkinen, Miss. Laina  female  26.0      0   \n",
       "3         Futrelle, Mrs. Jacques Heath (Lily May Peel)  female  35.0      1   \n",
       "4                             Allen, Mr. William Henry    male  35.0      0   \n",
       "..                                                 ...     ...   ...    ...   \n",
       "886                              Montvila, Rev. Juozas    male  27.0      0   \n",
       "887                       Graham, Miss. Margaret Edith  female  19.0      0   \n",
       "888           Johnston, Miss. Catherine Helen \"Carrie\"  female   NaN      1   \n",
       "889                              Behr, Mr. Karl Howell    male  26.0      0   \n",
       "890                                Dooley, Mr. Patrick    male  32.0      0   \n",
       "\n",
       "     Parch            Ticket     Fare Cabin Embarked  \n",
       "0        0         A/5 21171   7.2500   NaN        S  \n",
       "1        0          PC 17599  71.2833   C85        C  \n",
       "2        0  STON/O2. 3101282   7.9250   NaN        S  \n",
       "3        0            113803  53.1000  C123        S  \n",
       "4        0            373450   8.0500   NaN        S  \n",
       "..     ...               ...      ...   ...      ...  \n",
       "886      0            211536  13.0000   NaN        S  \n",
       "887      0            112053  30.0000   B42        S  \n",
       "888      2        W./C. 6607  23.4500   NaN        S  \n",
       "889      0            111369  30.0000  C148        C  \n",
       "890      0            370376   7.7500   NaN        Q  \n",
       "\n",
       "[891 rows x 12 columns]"
      ]
     },
     "execution_count": 2,
     "metadata": {},
     "output_type": "execute_result"
    }
   ],
   "source": [
    "titanic = pd.read_csv('train.csv')\n",
    "titanic"
   ]
  },
  {
   "cell_type": "markdown",
   "id": "ff965997",
   "metadata": {},
   "source": [
    "## Feature Selection"
   ]
  },
  {
   "cell_type": "markdown",
   "id": "2d8dcf36",
   "metadata": {},
   "source": [
    "When deciding what features we use, we need to decide what features have meaning to us. I go into each feature below."
   ]
  },
  {
   "cell_type": "markdown",
   "id": "1df9cb76",
   "metadata": {},
   "source": [
    "## PassengerId\n",
    "\n",
    "This is simply to uniquely identify each passenger. It has no effect on the predictions."
   ]
  },
  {
   "cell_type": "markdown",
   "id": "59e2c3cc",
   "metadata": {},
   "source": [
    "## Survived\n",
    "This feature is either '0' or '1', with '0' indicating the passenger died, and '1' indicating that the passenger survived."
   ]
  },
  {
   "cell_type": "markdown",
   "id": "823c2697",
   "metadata": {},
   "source": [
    "## Ticket Class (Pclass)\n",
    "Here we compute the survival rate (sr) for each of the three different class structures for people on board."
   ]
  },
  {
   "cell_type": "code",
   "execution_count": 3,
   "id": "01b1afd4",
   "metadata": {},
   "outputs": [
    {
     "data": {
      "text/plain": [
       "<AxesSubplot:xlabel='Sex'>"
      ]
     },
     "execution_count": 3,
     "metadata": {},
     "output_type": "execute_result"
    },
    {
     "data": {
      "image/png": "[encoded data removed]",
      "text/plain": [
       "<Figure size 432x288 with 1 Axes>"
      ]
     },
     "metadata": {
      "needs_background": "light"
     },
     "output_type": "display_data"
    }
   ],
   "source": [
    "titanic.groupby('Sex').count().reset_index().plot(x='Sex', y='Survived', kind='bar')"
   ]
  },
  {
   "cell_type": "code",
   "execution_count": 4,
   "id": "1ac7a329",
   "metadata": {},
   "outputs": [
    {
     "data": {
      "text/plain": [
       "(0.6296296296296297, 0.47282608695652173, 0.24236252545824846)"
      ]
     },
     "execution_count": 4,
     "metadata": {},
     "output_type": "execute_result"
    }
   ],
   "source": [
    "upper_class_sr = len(titanic[(titanic['Pclass'] == 1) & (titanic['Survived'] == 1)]) / len(titanic[titanic['Pclass'] == 1])\n",
    "middle_class_sr = len(titanic[(titanic['Pclass'] == 2) & (titanic['Survived'] == 1)]) / len(titanic[titanic['Pclass'] == 2])\n",
    "lower_class_sr = len(titanic[(titanic['Pclass'] == 3) & (titanic['Survived'] == 1)]) / len(titanic[titanic['Pclass'] == 3])\n",
    "upper_class_sr,middle_class_sr,lower_class_sr"
   ]
  },
  {
   "cell_type": "markdown",
   "id": "3d53ea13",
   "metadata": {},
   "source": [
    "As we can see, the survival rate of higher class individuals are higher than those of lower class than them, and the survival rate rate of middle class individuals are higher than those lower class than them."
   ]
  },
  {
   "cell_type": "markdown",
   "id": "24a87fb8",
   "metadata": {},
   "source": [
    "Thus, I think it is safe to say, that ticket class (Pclass) plays an important role in predicting survival."
   ]
  },
  {
   "cell_type": "markdown",
   "id": "39a69dea",
   "metadata": {},
   "source": [
    "## Sex\n",
    "\n",
    "Similarly, we can see a huge difference in survial rates below between females and males among the titanic, making it important indicator on whether an individual survived."
   ]
  },
  {
   "cell_type": "code",
   "execution_count": 5,
   "id": "a8b20ee6",
   "metadata": {},
   "outputs": [
    {
     "data": {
      "text/plain": [
       "(0.7420382165605095, 0.18890814558058924)"
      ]
     },
     "execution_count": 5,
     "metadata": {},
     "output_type": "execute_result"
    }
   ],
   "source": [
    "female_sr = len(titanic[(titanic['Survived'] == 1) & (titanic['Sex'] == 'female')]) / len(titanic[titanic['Sex'] == 'female'])\n",
    "male_sr = len(titanic[(titanic['Survived'] == 1) & (titanic['Sex'] == 'male')]) / len(titanic[titanic['Sex'] == 'male'])\n",
    "female_sr, male_sr"
   ]
  },
  {
   "cell_type": "markdown",
   "id": "ab16a821",
   "metadata": {},
   "source": [
    "## Age"
   ]
  },
  {
   "cell_type": "markdown",
   "id": "aa3e1d2c",
   "metadata": {},
   "source": [
    "Here is the minimum, maximum, and mean age of the test dataset. A decimal age represents the age in months of an infant."
   ]
  },
  {
   "cell_type": "code",
   "execution_count": 6,
   "id": "c8f26218",
   "metadata": {},
   "outputs": [
    {
     "data": {
      "text/plain": [
       "(0.42, 80.0, 29.69911764705882)"
      ]
     },
     "execution_count": 6,
     "metadata": {},
     "output_type": "execute_result"
    }
   ],
   "source": [
    "titanic['Age'].min(), titanic['Age'].max(), titanic['Age'].mean()"
   ]
  },
  {
   "cell_type": "markdown",
   "id": "9a74aa33",
   "metadata": {},
   "source": [
    "This is the distribution of the ages"
   ]
  },
  {
   "cell_type": "code",
   "execution_count": 7,
   "id": "cff1485a",
   "metadata": {},
   "outputs": [
    {
     "data": {
      "text/plain": [
       "array([[<AxesSubplot:title={'center':'Age'}>]], dtype=object)"
      ]
     },
     "execution_count": 7,
     "metadata": {},
     "output_type": "execute_result"
    },
    {
     "data": {
      "image/png": "[encoded data removed]",
      "text/plain": [
       "<Figure size 432x288 with 1 Axes>"
      ]
     },
     "metadata": {
      "needs_background": "light"
     },
     "output_type": "display_data"
    }
   ],
   "source": [
    "titanic.hist('Age')"
   ]
  },
  {
   "cell_type": "markdown",
   "id": "d1858e98",
   "metadata": {},
   "source": [
    "We could either leave age in its original form or we can manipulate it (feature engineering) to group each age into certain groups. We will implement a function that manipulates the age column and apply it to our dataset later."
   ]
  },
  {
   "cell_type": "code",
   "execution_count": 8,
   "id": "9a93b761",
   "metadata": {},
   "outputs": [],
   "source": [
    "def create_age_groups(age):\n",
    "    num_groups = 5\n",
    "    return age // num_groups"
   ]
  },
  {
   "cell_type": "markdown",
   "id": "a6b78c90",
   "metadata": {},
   "source": [
    "## SibSp\n",
    "This is the number of siblings and spouses. Siblings are defined as brothers, sisters, stepbrothers, stepsisters. Spouses are wifes and husbands (mistresses and fiances were ignored)."
   ]
  },
  {
   "cell_type": "code",
   "execution_count": 9,
   "id": "a87d90bb",
   "metadata": {},
   "outputs": [
    {
     "data": {
      "text/plain": [
       "SibSp\n",
       "0    0.345395\n",
       "1    0.535885\n",
       "2    0.464286\n",
       "3    0.250000\n",
       "4    0.166667\n",
       "5         NaN\n",
       "8         NaN\n",
       "Name: Survived, dtype: float64"
      ]
     },
     "execution_count": 9,
     "metadata": {},
     "output_type": "execute_result"
    }
   ],
   "source": [
    "titanic[titanic['Survived'] == 1].groupby('SibSp').count()['Survived'] / titanic.groupby('SibSp').count()['Survived']"
   ]
  },
  {
   "cell_type": "markdown",
   "id": "be74df01",
   "metadata": {},
   "source": [
    "We can see the proportion was higher for passengers that had less siblings and spouses. This could be because they didn't have to worry about other peoples' safety and could focus on their own during evacuation. We can play with this feature when we make our predictions."
   ]
  },
  {
   "cell_type": "markdown",
   "id": "c9df662e",
   "metadata": {},
   "source": [
    "## Parch\n",
    "This is the number of parents and children this passenger has on the ship. A parent is defined as a mother or father, and a child can be defined as a daugther, son, stepdaughter, and stepson."
   ]
  },
  {
   "cell_type": "code",
   "execution_count": 10,
   "id": "faa52875",
   "metadata": {},
   "outputs": [
    {
     "data": {
      "text/plain": [
       "Parch\n",
       "0    0.343658\n",
       "1    0.550847\n",
       "2    0.500000\n",
       "3    0.600000\n",
       "4         NaN\n",
       "5    0.200000\n",
       "6         NaN\n",
       "Name: Survived, dtype: float64"
      ]
     },
     "execution_count": 10,
     "metadata": {},
     "output_type": "execute_result"
    }
   ],
   "source": [
    "titanic[titanic['Survived'] == 1].groupby('Parch').count()['Survived'] / titanic.groupby('Parch').count()['Survived']"
   ]
  },
  {
   "cell_type": "markdown",
   "id": "6240d2df",
   "metadata": {},
   "source": [
    "There is not really a strong relationship with the way having more parents and children affect your survival, but we can see that lower than 3 parents and siblings tend to have the most surival. This could be the same reason as for siblings and spouses where they didn't have to worry much about much people when evacuating."
   ]
  },
  {
   "cell_type": "markdown",
   "id": "fdfd7d43",
   "metadata": {},
   "source": [
    "## Ticket\n",
    "We can see that compared to the length of the dataset, there are many unique tickets. Since tickets are so unique, tickets might not be such a good feature for predictor because it has nothing to do with survival."
   ]
  },
  {
   "cell_type": "code",
   "execution_count": 11,
   "id": "0bd3d6df",
   "metadata": {},
   "outputs": [
    {
     "data": {
      "text/plain": [
       "681"
      ]
     },
     "execution_count": 11,
     "metadata": {},
     "output_type": "execute_result"
    }
   ],
   "source": [
    "len(titanic.groupby('Ticket').count())"
   ]
  },
  {
   "cell_type": "markdown",
   "id": "567b1c5b",
   "metadata": {},
   "source": [
    "## Fare\n",
    "The fare is how much each passenger paid to get on the titanic. Typically, higher class passengers paid for better tickets while lower class tickets paid little at all. The fare most likely has a big impact on prediction because those who paid higher prices probably were treated better during evacuation."
   ]
  },
  {
   "cell_type": "markdown",
   "id": "7110f18a",
   "metadata": {},
   "source": [
    "The minimum, maximum, and mean fare is shown below"
   ]
  },
  {
   "cell_type": "code",
   "execution_count": 12,
   "id": "e143f140",
   "metadata": {},
   "outputs": [
    {
     "data": {
      "text/plain": [
       "(0.0, 512.3292, 32.204207968574636)"
      ]
     },
     "execution_count": 12,
     "metadata": {},
     "output_type": "execute_result"
    }
   ],
   "source": [
    "titanic['Fare'].min(), titanic['Fare'].max(), titanic['Fare'].mean()"
   ]
  },
  {
   "cell_type": "markdown",
   "id": "4938d878",
   "metadata": {},
   "source": [
    "Here we see the distribution of the fare. The orange represents those who survived. We can see the proportion of those who survived is larger as the fare price increases."
   ]
  },
  {
   "cell_type": "code",
   "execution_count": 13,
   "id": "e2d79237",
   "metadata": {},
   "outputs": [
    {
     "data": {
      "text/plain": [
       "(<AxesSubplot:>, <AxesSubplot:>)"
      ]
     },
     "execution_count": 13,
     "metadata": {},
     "output_type": "execute_result"
    },
    {
     "data": {
      "image/png": "[encoded data removed]",
      "text/plain": [
       "<Figure size 432x288 with 1 Axes>"
      ]
     },
     "metadata": {
      "needs_background": "light"
     },
     "output_type": "display_data"
    }
   ],
   "source": [
    "titanic['Fare'].hist(), titanic[titanic['Survived'] == 1]['Fare'].hist()"
   ]
  },
  {
   "cell_type": "markdown",
   "id": "a14e0861",
   "metadata": {},
   "source": [
    "We can use various techniques to manipulate the fare so that we can better predict survival rate. Below I employ a simple technique which takes the midpoint between the lower class and middle class mean fare and the middle class and upper class mean fare."
   ]
  },
  {
   "cell_type": "code",
   "execution_count": 14,
   "id": "e324def6",
   "metadata": {},
   "outputs": [
    {
     "data": {
      "text/plain": [
       "(17.168866627003453, 52.40843532608695)"
      ]
     },
     "execution_count": 14,
     "metadata": {},
     "output_type": "execute_result"
    }
   ],
   "source": [
    "first_second_mid = (titanic[titanic['Pclass'] == 3]['Fare'].mean() + titanic[titanic['Pclass'] == 2]['Fare'].mean()) / 2\n",
    "second_third_mid = (titanic[titanic['Pclass'] == 1]['Fare'].mean() + titanic[titanic['Pclass'] == 2]['Fare'].mean()) / 2\n",
    "first_second_mid, second_third_mid"
   ]
  },
  {
   "cell_type": "code",
   "execution_count": 15,
   "id": "d1618786",
   "metadata": {},
   "outputs": [],
   "source": [
    "def create_fare_groups(fare):\n",
    "    if fare <= first_second_mid:\n",
    "        return 0\n",
    "    elif fare <= second_third_mid:\n",
    "        return 1\n",
    "    else:\n",
    "        return 2"
   ]
  },
  {
   "cell_type": "markdown",
   "id": "cc5623d4",
   "metadata": {},
   "source": [
    "## Cabin\n",
    "If we look at the number of missing data for each feature, we can see that 'Cabin' has the majority of its data missing. Even if cabin was a good feature to predict survival, we don't really have the data for it unfortunately."
   ]
  },
  {
   "cell_type": "code",
   "execution_count": 16,
   "id": "9b082711",
   "metadata": {},
   "outputs": [
    {
     "name": "stdout",
     "output_type": "stream",
     "text": [
      "Feature: PassengerId , Total: 891, Missing: 0\n",
      "Feature: Survived , Total: 891, Missing: 0\n",
      "Feature: Pclass , Total: 891, Missing: 0\n",
      "Feature: Name , Total: 891, Missing: 0\n",
      "Feature: Sex , Total: 891, Missing: 0\n",
      "Feature: Age , Total: 891, Missing: 177\n",
      "Feature: SibSp , Total: 891, Missing: 0\n",
      "Feature: Parch , Total: 891, Missing: 0\n",
      "Feature: Ticket , Total: 891, Missing: 0\n",
      "Feature: Fare , Total: 891, Missing: 0\n",
      "Feature: Cabin , Total: 891, Missing: 687\n",
      "Feature: Embarked , Total: 891, Missing: 2\n"
     ]
    }
   ],
   "source": [
    "null_titanic = titanic.isna()\n",
    "features = titanic.columns\n",
    "for feature in features:\n",
    "    total_count = len(titanic[feature])\n",
    "    missing_count = len(null_titanic[null_titanic[feature] == True][feature])\n",
    "    print(\"Feature: {0} , Total: {2}, Missing: {1}\".format(feature, missing_count, total_count))"
   ]
  },
  {
   "cell_type": "markdown",
   "id": "9de958cc",
   "metadata": {},
   "source": [
    "## Embarked"
   ]
  },
  {
   "cell_type": "markdown",
   "id": "95f57c22",
   "metadata": {},
   "source": [
    "Let's see if from where a passenger embarked has an effect on survival rate.\n",
    "Ports of Embarkement:\n",
    "Cherbourg = C\n",
    "Queenstown = Q\n",
    "Southampton = S"
   ]
  },
  {
   "cell_type": "code",
   "execution_count": 17,
   "id": "dc83251e",
   "metadata": {},
   "outputs": [
    {
     "data": {
      "text/plain": [
       "(0.33695652173913043, 0.5535714285714286, 0.38961038961038963)"
      ]
     },
     "execution_count": 17,
     "metadata": {},
     "output_type": "execute_result"
    },
    {
     "data": {
      "image/png": "[encoded data removed]",
      "text/plain": [
       "<Figure size 432x288 with 1 Axes>"
      ]
     },
     "metadata": {
      "needs_background": "light"
     },
     "output_type": "display_data"
    }
   ],
   "source": [
    "titanic['Embarked'].hist(color='black')\n",
    "titanic[titanic['Survived'] == 1]['Embarked'].hist(color='green')\n",
    "cherbourg = len(titanic[(titanic['Survived'] == 1) & (titanic['Embarked'] == 'C')]) / len(titanic[titanic['Embarked'] == 'C'])\n",
    "queenstown = len(titanic[(titanic['Survived'] == 1) & (titanic['Embarked'] == 'Q')]) / len(titanic[titanic['Embarked'] == 'Q'])\n",
    "southampton = len(titanic[(titanic['Survived'] == 1) & (titanic['Embarked'] == 'S')]) / len(titanic[titanic['Embarked'] == 'S'])\n",
    "southampton, cherbourg, queenstown"
   ]
  },
  {
   "cell_type": "markdown",
   "id": "1eda79ec",
   "metadata": {},
   "source": [
    "We can see survival is varied amongst the ports of embarkment. So we can say this is a reasonable feature to use, however, we should consider whether this will actually help us find a good prediction. How would port of embarkment affect survival? Maybe how cabins were assigned based off which port you embarked from can be the case. We will mess around with this feature later."
   ]
  },
  {
   "cell_type": "markdown",
   "id": "ff05d546",
   "metadata": {},
   "source": [
    "## The Algorithm\n",
    "I have implemented the naive bayes algorithm without smoothing and with smoothing"
   ]
  },
  {
   "cell_type": "markdown",
   "id": "33aa7db0",
   "metadata": {},
   "source": [
    "### No Smoothing"
   ]
  },
  {
   "cell_type": "code",
   "execution_count": 18,
   "id": "4e85d9fd",
   "metadata": {},
   "outputs": [],
   "source": [
    "def compute_naive_bayes(data):\n",
    "    passengers = len(titanic)\n",
    "    survived = len(titanic[titanic['Survived'] == 1])\n",
    "    died = len(titanic[titanic['Survived'] == 0])\n",
    "    p_survived = survived / passengers\n",
    "    p_died = died / passengers\n",
    "\n",
    "    p_survived_features = p_survived\n",
    "    p_died_features = p_died\n",
    "\n",
    "    for i in range(len(features)):\n",
    "        feature_count_survived = len(titanic[(titanic['Survived'] == 1) & (titanic[features[i]] == data[i])])\n",
    "        feature_count_died = len(titanic[(titanic['Survived'] == 0) & (titanic[features[i]] == data[i])])\n",
    "        p_feature_survived = feature_count_survived / survived\n",
    "        p_feature_died = feature_count_died / died\n",
    "        p_survived_features *= p_feature_survived\n",
    "        p_died_features *= p_feature_died\n",
    "\n",
    "        \n",
    "    if p_survived_features > p_died_features:\n",
    "        return 1\n",
    "    else:\n",
    "        return 0\n"
   ]
  },
  {
   "cell_type": "markdown",
   "id": "a184b210",
   "metadata": {},
   "source": [
    "### Smoothing"
   ]
  },
  {
   "cell_type": "code",
   "execution_count": 19,
   "id": "8fc1d198",
   "metadata": {},
   "outputs": [],
   "source": [
    "def compute_smooth_naive_bayes(data):\n",
    "    passengers = len(titanic)\n",
    "    survived = len(titanic[titanic['Survived'] == 1])\n",
    "    died = len(titanic[titanic['Survived'] == 0])\n",
    "    p_survived = survived / passengers\n",
    "    p_died = died / passengers\n",
    "\n",
    "    p_survived_features = p_survived\n",
    "    p_died_features = p_died\n",
    "\n",
    "    for i in range(len(features)):\n",
    "        feature_count_survived = len(titanic[(titanic['Survived'] == 1) & (titanic[features[i]] == data[i])])\n",
    "        feature_count_died = len(titanic[(titanic['Survived'] == 0) & (titanic[features[i]] == data[i])])\n",
    "        p_feature_survived = (feature_count_survived + 1)  / (survived + len(titanic.groupby(features[i]).count()))\n",
    "        p_feature_died = (feature_count_died + 1) / (died + len(titanic.groupby(features[i]).count()))\n",
    "        p_survived_features *= p_feature_survived\n",
    "        p_died_features *= p_feature_died\n",
    "\n",
    "        \n",
    "    if p_survived_features > p_died_features:\n",
    "        return 1\n",
    "    else:\n",
    "        return 0\n"
   ]
  },
  {
   "cell_type": "markdown",
   "id": "408f34ee",
   "metadata": {},
   "source": [
    "## Making Predictions\n",
    "Once we have figured out what features to use and in what ways we can manipulate them, we can use our naive bayes algorithm we have computed on our test data to predict accuracy."
   ]
  },
  {
   "cell_type": "markdown",
   "id": "38199cc9",
   "metadata": {},
   "source": [
    "First let's read in our test data"
   ]
  },
  {
   "cell_type": "code",
   "execution_count": 20,
   "id": "c615398d",
   "metadata": {},
   "outputs": [],
   "source": [
    "test_titanic = pd.read_csv('test.csv')"
   ]
  },
  {
   "cell_type": "markdown",
   "id": "8c40c2b8",
   "metadata": {},
   "source": [
    "We need to partition some of our train data to be our validation data. Here we do a 65% train, 35% validation split."
   ]
  },
  {
   "cell_type": "code",
   "execution_count": 21,
   "id": "f3331466",
   "metadata": {},
   "outputs": [
    {
     "data": {
      "text/plain": [
       "(579, 312)"
      ]
     },
     "execution_count": 21,
     "metadata": {},
     "output_type": "execute_result"
    }
   ],
   "source": [
    "train_titanic, validate_titanic = \\\n",
    "              np.split(titanic.sample(frac=1, random_state=36), \n",
    "                       [int(.65*len(titanic))])\n",
    "len(train_titanic), len(validate_titanic)"
   ]
  },
  {
   "cell_type": "markdown",
   "id": "75dc5887",
   "metadata": {},
   "source": [
    "## Validation and Accuracy"
   ]
  },
  {
   "cell_type": "markdown",
   "id": "c8d86df3",
   "metadata": {},
   "source": [
    "Here we define the features we want to use for our prediction and our validation accuracy"
   ]
  },
  {
   "cell_type": "code",
   "execution_count": 22,
   "id": "9c4384cd",
   "metadata": {},
   "outputs": [],
   "source": [
    "def compute_accuracy(features):\n",
    "    validate_titanic['Prediction'] = validate_titanic.get(features).apply(compute_naive_bayes, axis=1)\n",
    "    validate_accuracy = len(validate_titanic[validate_titanic['Survived'] == validate_titanic['Prediction']]) / len(validate_titanic)\n",
    "    return validate_accuracy"
   ]
  },
  {
   "cell_type": "code",
   "execution_count": 23,
   "id": "43e6cf69",
   "metadata": {},
   "outputs": [],
   "source": [
    "def compute_accuracy_smoothing(features):\n",
    "    validate_titanic['Prediction'] = validate_titanic.get(features).apply(compute_smooth_naive_bayes, axis=1)\n",
    "    validate_accuracy = len(validate_titanic[validate_titanic['Survived'] == validate_titanic['Prediction']]) / len(validate_titanic)\n",
    "    return validate_accuracy"
   ]
  },
  {
   "cell_type": "code",
   "execution_count": 24,
   "id": "56b8ea73",
   "metadata": {},
   "outputs": [
    {
     "data": {
      "text/plain": [
       "(0.8269230769230769, 0.8525641025641025)"
      ]
     },
     "execution_count": 24,
     "metadata": {},
     "output_type": "execute_result"
    }
   ],
   "source": [
    "features = ['Pclass', 'Sex', 'Age', 'Fare', 'SibSp', 'Parch', 'Embarked']\n",
    "compute_accuracy(features), compute_accuracy_smoothing(features)"
   ]
  },
  {
   "cell_type": "markdown",
   "id": "b07bd0b5",
   "metadata": {},
   "source": [
    "We can see that the smoothing technique yielded better results with our validation data."
   ]
  },
  {
   "cell_type": "markdown",
   "id": "7a8c2a4f",
   "metadata": {},
   "source": [
    "## Preparing Results for Kaggle\n",
    "Below we mimic what we did above but put our predictions for the test file to see our test accuracy. Let's do it."
   ]
  },
  {
   "cell_type": "code",
   "execution_count": 25,
   "id": "995bc6af",
   "metadata": {},
   "outputs": [],
   "source": [
    "test_titanic['Survived'] = test_titanic.get(features).apply(compute_smooth_naive_bayes, axis=1)"
   ]
  },
  {
   "cell_type": "code",
   "execution_count": 26,
   "id": "0658138a",
   "metadata": {},
   "outputs": [
    {
     "data": {
      "text/html": [
       "<div>\n",
       "<style scoped>\n",
       "    .dataframe tbody tr th:only-of-type {\n",
       "        vertical-align: middle;\n",
       "    }\n",
       "\n",
       "    .dataframe tbody tr th {\n",
       "        vertical-align: top;\n",
       "    }\n",
       "\n",
       "    .dataframe thead th {\n",
       "        text-align: right;\n",
       "    }\n",
       "</style>\n",
       "<table border=\"1\" class=\"dataframe\">\n",
       "  <thead>\n",
       "    <tr style=\"text-align: right;\">\n",
       "      <th></th>\n",
       "      <th>PassengerId</th>\n",
       "      <th>Survived</th>\n",
       "    </tr>\n",
       "  </thead>\n",
       "  <tbody>\n",
       "    <tr>\n",
       "      <th>0</th>\n",
       "      <td>892</td>\n",
       "      <td>0</td>\n",
       "    </tr>\n",
       "    <tr>\n",
       "      <th>1</th>\n",
       "      <td>893</td>\n",
       "      <td>0</td>\n",
       "    </tr>\n",
       "    <tr>\n",
       "      <th>2</th>\n",
       "      <td>894</td>\n",
       "      <td>0</td>\n",
       "    </tr>\n",
       "    <tr>\n",
       "      <th>3</th>\n",
       "      <td>895</td>\n",
       "      <td>0</td>\n",
       "    </tr>\n",
       "    <tr>\n",
       "      <th>4</th>\n",
       "      <td>896</td>\n",
       "      <td>1</td>\n",
       "    </tr>\n",
       "    <tr>\n",
       "      <th>...</th>\n",
       "      <td>...</td>\n",
       "      <td>...</td>\n",
       "    </tr>\n",
       "    <tr>\n",
       "      <th>413</th>\n",
       "      <td>1305</td>\n",
       "      <td>0</td>\n",
       "    </tr>\n",
       "    <tr>\n",
       "      <th>414</th>\n",
       "      <td>1306</td>\n",
       "      <td>1</td>\n",
       "    </tr>\n",
       "    <tr>\n",
       "      <th>415</th>\n",
       "      <td>1307</td>\n",
       "      <td>0</td>\n",
       "    </tr>\n",
       "    <tr>\n",
       "      <th>416</th>\n",
       "      <td>1308</td>\n",
       "      <td>0</td>\n",
       "    </tr>\n",
       "    <tr>\n",
       "      <th>417</th>\n",
       "      <td>1309</td>\n",
       "      <td>1</td>\n",
       "    </tr>\n",
       "  </tbody>\n",
       "</table>\n",
       "<p>418 rows × 2 columns</p>\n",
       "</div>"
      ],
      "text/plain": [
       "     PassengerId  Survived\n",
       "0            892         0\n",
       "1            893         0\n",
       "2            894         0\n",
       "3            895         0\n",
       "4            896         1\n",
       "..           ...       ...\n",
       "413         1305         0\n",
       "414         1306         1\n",
       "415         1307         0\n",
       "416         1308         0\n",
       "417         1309         1\n",
       "\n",
       "[418 rows x 2 columns]"
      ]
     },
     "execution_count": 26,
     "metadata": {},
     "output_type": "execute_result"
    }
   ],
   "source": [
    "predictions = test_titanic[['PassengerId', 'Survived']]\n",
    "predictions"
   ]
  },
  {
   "cell_type": "code",
   "execution_count": 27,
   "id": "7f5476a7",
   "metadata": {},
   "outputs": [],
   "source": [
    "predictions.to_csv(\"predictions.csv\")"
   ]
  },
  {
   "cell_type": "markdown",
   "id": "c8964593",
   "metadata": {},
   "source": [
    "Our test prediction accuracy was 74.6125 %"
   ]
  },
  {
   "cell_type": "markdown",
   "id": "991dcabe",
   "metadata": {},
   "source": [
    "## Assessment\n",
    "We see that we did pretty good with the naive bayes algorithm. Despite being able to optimize this algorithm some more with feature engineeering, I think it is not worth spending time on doing that because realistically, these titanic passengers were in a time of chaos when the ship was sinking. Thus, with all this noise, it is impossible to perfectly predict every passenger because there are many exceptions. We should acknowledge this. In the next segment, we study a dataset that should not contain too much noise compared to this dataset. Let's move on!"
   ]
  },
  {
   "cell_type": "markdown",
   "id": "b5b3a9e6",
   "metadata": {},
   "source": [
    "# Naive Bayes on Cancer Dataset"
   ]
  },
  {
   "cell_type": "markdown",
   "id": "947fe266",
   "metadata": {},
   "source": [
    "We know that the titanic was a time of chaos onboard, making it difficult to predict outcomes based on an algorithm. Thus, let's explore the efficiency of our naive bayes algorithm on a cancer dataset downloaded from UCI's extensive collection of datasets."
   ]
  },
  {
   "cell_type": "markdown",
   "id": "acb18714",
   "metadata": {},
   "source": [
    "Here we read our cancer.data file with pandas"
   ]
  },
  {
   "cell_type": "code",
   "execution_count": 28,
   "id": "7e6d1ed8",
   "metadata": {},
   "outputs": [
    {
     "data": {
      "text/html": [
       "<div>\n",
       "<style scoped>\n",
       "    .dataframe tbody tr th:only-of-type {\n",
       "        vertical-align: middle;\n",
       "    }\n",
       "\n",
       "    .dataframe tbody tr th {\n",
       "        vertical-align: top;\n",
       "    }\n",
       "\n",
       "    .dataframe thead th {\n",
       "        text-align: right;\n",
       "    }\n",
       "</style>\n",
       "<table border=\"1\" class=\"dataframe\">\n",
       "  <thead>\n",
       "    <tr style=\"text-align: right;\">\n",
       "      <th></th>\n",
       "      <th>Class</th>\n",
       "      <th>Age</th>\n",
       "      <th>Menopause</th>\n",
       "      <th>TumorSize</th>\n",
       "      <th>InvNodes</th>\n",
       "      <th>NodeCaps</th>\n",
       "      <th>DegMalig</th>\n",
       "      <th>Breast</th>\n",
       "      <th>BreastQuad</th>\n",
       "      <th>Irradiat</th>\n",
       "    </tr>\n",
       "  </thead>\n",
       "  <tbody>\n",
       "    <tr>\n",
       "      <th>0</th>\n",
       "      <td>no-recurrence-events</td>\n",
       "      <td>30-39</td>\n",
       "      <td>premeno</td>\n",
       "      <td>30-34</td>\n",
       "      <td>0-2</td>\n",
       "      <td>no</td>\n",
       "      <td>3</td>\n",
       "      <td>left</td>\n",
       "      <td>left_low</td>\n",
       "      <td>no</td>\n",
       "    </tr>\n",
       "    <tr>\n",
       "      <th>1</th>\n",
       "      <td>no-recurrence-events</td>\n",
       "      <td>40-49</td>\n",
       "      <td>premeno</td>\n",
       "      <td>20-24</td>\n",
       "      <td>0-2</td>\n",
       "      <td>no</td>\n",
       "      <td>2</td>\n",
       "      <td>right</td>\n",
       "      <td>right_up</td>\n",
       "      <td>no</td>\n",
       "    </tr>\n",
       "    <tr>\n",
       "      <th>2</th>\n",
       "      <td>no-recurrence-events</td>\n",
       "      <td>40-49</td>\n",
       "      <td>premeno</td>\n",
       "      <td>20-24</td>\n",
       "      <td>0-2</td>\n",
       "      <td>no</td>\n",
       "      <td>2</td>\n",
       "      <td>left</td>\n",
       "      <td>left_low</td>\n",
       "      <td>no</td>\n",
       "    </tr>\n",
       "    <tr>\n",
       "      <th>3</th>\n",
       "      <td>no-recurrence-events</td>\n",
       "      <td>60-69</td>\n",
       "      <td>ge40</td>\n",
       "      <td>15-19</td>\n",
       "      <td>0-2</td>\n",
       "      <td>no</td>\n",
       "      <td>2</td>\n",
       "      <td>right</td>\n",
       "      <td>left_up</td>\n",
       "      <td>no</td>\n",
       "    </tr>\n",
       "    <tr>\n",
       "      <th>4</th>\n",
       "      <td>no-recurrence-events</td>\n",
       "      <td>40-49</td>\n",
       "      <td>premeno</td>\n",
       "      <td>0-4</td>\n",
       "      <td>0-2</td>\n",
       "      <td>no</td>\n",
       "      <td>2</td>\n",
       "      <td>right</td>\n",
       "      <td>right_low</td>\n",
       "      <td>no</td>\n",
       "    </tr>\n",
       "    <tr>\n",
       "      <th>...</th>\n",
       "      <td>...</td>\n",
       "      <td>...</td>\n",
       "      <td>...</td>\n",
       "      <td>...</td>\n",
       "      <td>...</td>\n",
       "      <td>...</td>\n",
       "      <td>...</td>\n",
       "      <td>...</td>\n",
       "      <td>...</td>\n",
       "      <td>...</td>\n",
       "    </tr>\n",
       "    <tr>\n",
       "      <th>281</th>\n",
       "      <td>recurrence-events</td>\n",
       "      <td>30-39</td>\n",
       "      <td>premeno</td>\n",
       "      <td>30-34</td>\n",
       "      <td>0-2</td>\n",
       "      <td>no</td>\n",
       "      <td>2</td>\n",
       "      <td>left</td>\n",
       "      <td>left_up</td>\n",
       "      <td>no</td>\n",
       "    </tr>\n",
       "    <tr>\n",
       "      <th>282</th>\n",
       "      <td>recurrence-events</td>\n",
       "      <td>30-39</td>\n",
       "      <td>premeno</td>\n",
       "      <td>20-24</td>\n",
       "      <td>0-2</td>\n",
       "      <td>no</td>\n",
       "      <td>3</td>\n",
       "      <td>left</td>\n",
       "      <td>left_up</td>\n",
       "      <td>yes</td>\n",
       "    </tr>\n",
       "    <tr>\n",
       "      <th>283</th>\n",
       "      <td>recurrence-events</td>\n",
       "      <td>60-69</td>\n",
       "      <td>ge40</td>\n",
       "      <td>20-24</td>\n",
       "      <td>0-2</td>\n",
       "      <td>no</td>\n",
       "      <td>1</td>\n",
       "      <td>right</td>\n",
       "      <td>left_up</td>\n",
       "      <td>no</td>\n",
       "    </tr>\n",
       "    <tr>\n",
       "      <th>284</th>\n",
       "      <td>recurrence-events</td>\n",
       "      <td>40-49</td>\n",
       "      <td>ge40</td>\n",
       "      <td>30-34</td>\n",
       "      <td>3-5</td>\n",
       "      <td>no</td>\n",
       "      <td>3</td>\n",
       "      <td>left</td>\n",
       "      <td>left_low</td>\n",
       "      <td>no</td>\n",
       "    </tr>\n",
       "    <tr>\n",
       "      <th>285</th>\n",
       "      <td>recurrence-events</td>\n",
       "      <td>50-59</td>\n",
       "      <td>ge40</td>\n",
       "      <td>30-34</td>\n",
       "      <td>3-5</td>\n",
       "      <td>no</td>\n",
       "      <td>3</td>\n",
       "      <td>left</td>\n",
       "      <td>left_low</td>\n",
       "      <td>no</td>\n",
       "    </tr>\n",
       "  </tbody>\n",
       "</table>\n",
       "<p>286 rows × 10 columns</p>\n",
       "</div>"
      ],
      "text/plain": [
       "                    Class    Age Menopause TumorSize InvNodes NodeCaps  \\\n",
       "0    no-recurrence-events  30-39   premeno     30-34      0-2       no   \n",
       "1    no-recurrence-events  40-49   premeno     20-24      0-2       no   \n",
       "2    no-recurrence-events  40-49   premeno     20-24      0-2       no   \n",
       "3    no-recurrence-events  60-69      ge40     15-19      0-2       no   \n",
       "4    no-recurrence-events  40-49   premeno       0-4      0-2       no   \n",
       "..                    ...    ...       ...       ...      ...      ...   \n",
       "281     recurrence-events  30-39   premeno     30-34      0-2       no   \n",
       "282     recurrence-events  30-39   premeno     20-24      0-2       no   \n",
       "283     recurrence-events  60-69      ge40     20-24      0-2       no   \n",
       "284     recurrence-events  40-49      ge40     30-34      3-5       no   \n",
       "285     recurrence-events  50-59      ge40     30-34      3-5       no   \n",
       "\n",
       "     DegMalig Breast BreastQuad Irradiat  \n",
       "0           3   left   left_low       no  \n",
       "1           2  right   right_up       no  \n",
       "2           2   left   left_low       no  \n",
       "3           2  right    left_up       no  \n",
       "4           2  right  right_low       no  \n",
       "..        ...    ...        ...      ...  \n",
       "281         2   left    left_up       no  \n",
       "282         3   left    left_up      yes  \n",
       "283         1  right    left_up       no  \n",
       "284         3   left   left_low       no  \n",
       "285         3   left   left_low       no  \n",
       "\n",
       "[286 rows x 10 columns]"
      ]
     },
     "execution_count": 28,
     "metadata": {},
     "output_type": "execute_result"
    }
   ],
   "source": [
    "cells = pd.read_csv(\"breast-cancer.data\")\n",
    "cells"
   ]
  },
  {
   "cell_type": "markdown",
   "id": "68d57c30",
   "metadata": {},
   "source": [
    "Lets analyze how many of no recurrence (cancer not detectable) and recurrence events (cancer detectable) there are. "
   ]
  },
  {
   "cell_type": "code",
   "execution_count": 29,
   "id": "e667e5be",
   "metadata": {},
   "outputs": [
    {
     "data": {
      "text/plain": [
       "(85, 201)"
      ]
     },
     "execution_count": 29,
     "metadata": {},
     "output_type": "execute_result"
    }
   ],
   "source": [
    "recurrence = len(cells[cells['Class'] == 'recurrence-events'])\n",
    "no_recurrence = len(cells[cells['Class'] == 'no-recurrence-events'])\n",
    "recurrence,no_recurrence"
   ]
  },
  {
   "cell_type": "markdown",
   "id": "59fcfae3",
   "metadata": {},
   "source": [
    "We can see there is not much data compared to the titanic dataset. We are not going to spend too much time on looking at the features and will be getting right to the predictions."
   ]
  },
  {
   "cell_type": "markdown",
   "id": "aa032d62",
   "metadata": {},
   "source": [
    "## Splitting Data"
   ]
  },
  {
   "cell_type": "code",
   "execution_count": 30,
   "id": "5c06a0fc",
   "metadata": {},
   "outputs": [
    {
     "data": {
      "text/plain": [
       "(214, 36, 36)"
      ]
     },
     "execution_count": 30,
     "metadata": {},
     "output_type": "execute_result"
    }
   ],
   "source": [
    "train, validate, test = \\\n",
    "              np.split(cells.sample(frac=1, random_state=36), \n",
    "                       [int(.75*len(cells)), int(.875*len(cells))])\n",
    "len(train), len(validate), len(test)"
   ]
  },
  {
   "cell_type": "markdown",
   "id": "1984eb88",
   "metadata": {},
   "source": [
    "## Same Algorithm, Different Data"
   ]
  },
  {
   "cell_type": "code",
   "execution_count": 31,
   "id": "524f37e3",
   "metadata": {},
   "outputs": [],
   "source": [
    "def compute_naive_bayes(data):\n",
    "    size = len(cells)\n",
    "    cancer = len(cells[cells['Class'] == 'recurrence-events'])\n",
    "    benign = len(cells[cells['Class'] == 'no-recurrence-events'])\n",
    "    p_cancer = cancer / size\n",
    "    p_benign = benign / size\n",
    "\n",
    "    p_cancer_features = p_cancer\n",
    "    p_benign_features = p_benign\n",
    "\n",
    "    for i in range(len(features)):\n",
    "        feature_count_cancer = len(cells[(cells['Class'] == 'recurrence-events') & (cells[features[i]] == data[i])])\n",
    "        feature_count_benign = len(cells[(cells['Class'] == 'no-recurrence-events') & (cells[features[i]] == data[i])])\n",
    "        p_feature_cancer = (feature_count_cancer)  / (cancer)\n",
    "        p_feature_benign = (feature_count_benign) / (benign)\n",
    "        p_cancer_features *= p_feature_cancer\n",
    "        p_benign_features *= p_feature_benign\n",
    "\n",
    "        \n",
    "    if p_cancer_features > p_benign_features:\n",
    "        return 'recurrence-events'\n",
    "    else:\n",
    "        return 'no-recurrence-events'\n"
   ]
  },
  {
   "cell_type": "code",
   "execution_count": 32,
   "id": "ee75c9e6",
   "metadata": {},
   "outputs": [],
   "source": [
    "def compute_smooth_naive_bayes(data):\n",
    "    size = len(cells)\n",
    "    cancer = len(cells[cells['Class'] == 'recurrence-events'])\n",
    "    benign = len(cells[cells['Class'] == 'no-recurrence-events'])\n",
    "    p_cancer = cancer / size\n",
    "    p_benign = benign / size\n",
    "\n",
    "    p_cancer_features = p_cancer\n",
    "    p_benign_features = p_benign\n",
    "\n",
    "    for i in range(len(features)):\n",
    "        feature_count_cancer = len(cells[(cells['Class'] == 'recurrence-events') & (cells[features[i]] == data[i])])\n",
    "        feature_count_benign = len(cells[(cells['Class'] == 'no-recurrence-events') & (cells[features[i]] == data[i])])\n",
    "        p_feature_cancer = (feature_count_cancer + 1)  / (cancer + len(cells.groupby(features[i]).count()))\n",
    "        p_feature_benign = (feature_count_benign + 1) / (benign + len(cells.groupby(features[i]).count()))\n",
    "        p_cancer_features *= p_feature_cancer\n",
    "        p_benign_features *= p_feature_benign\n",
    "\n",
    "        \n",
    "    if p_cancer_features > p_benign_features:\n",
    "        return 'recurrence-events'\n",
    "    else:\n",
    "        return 'no-recurrence-events'\n"
   ]
  },
  {
   "cell_type": "markdown",
   "id": "fec504ab",
   "metadata": {},
   "source": [
    "## Predictions"
   ]
  },
  {
   "cell_type": "code",
   "execution_count": 33,
   "id": "520b9d5c",
   "metadata": {},
   "outputs": [],
   "source": [
    "features = ['Age', 'Menopause', 'TumorSize', 'InvNodes', 'NodeCaps', 'DegMalig', 'Breast', 'BreastQuad','Irradiat']"
   ]
  },
  {
   "cell_type": "code",
   "execution_count": 34,
   "id": "586cbfe6",
   "metadata": {},
   "outputs": [
    {
     "data": {
      "text/plain": [
       "0.8055555555555556"
      ]
     },
     "execution_count": 34,
     "metadata": {},
     "output_type": "execute_result"
    }
   ],
   "source": [
    "validate['Prediction'] = validate.get(['Age', 'Menopause', 'TumorSize', 'InvNodes', 'NodeCaps', 'DegMalig', 'Breast', 'BreastQuad','Irradiat']).apply(compute_smooth_naive_bayes, axis=1)\n",
    "accuracy = len(validate[validate['Class'] == validate['Prediction']]) / len(validate)\n",
    "accuracy"
   ]
  },
  {
   "cell_type": "code",
   "execution_count": 35,
   "id": "2f68c263",
   "metadata": {},
   "outputs": [
    {
     "data": {
      "text/plain": [
       "0.6666666666666666"
      ]
     },
     "execution_count": 35,
     "metadata": {},
     "output_type": "execute_result"
    }
   ],
   "source": [
    "test['Prediction'] = test.get(['Age', 'Menopause', 'TumorSize', 'InvNodes', 'NodeCaps', 'DegMalig', 'Breast', 'BreastQuad','Irradiat']).apply(compute_smooth_naive_bayes, axis=1)\n",
    "accuracy_test = len(test[test['Class'] == test['Prediction']]) / len(test)\n",
    "accuracy_test"
   ]
  },
  {
   "cell_type": "markdown",
   "id": "8d2847ed",
   "metadata": {},
   "source": [
    "## Sample Size Matters\n",
    "Here we rerun the predictions but split the data into train, validate, and test with a different random state."
   ]
  },
  {
   "cell_type": "code",
   "execution_count": 36,
   "id": "59d4892a",
   "metadata": {},
   "outputs": [
    {
     "data": {
      "text/plain": [
       "(214, 36, 36)"
      ]
     },
     "execution_count": 36,
     "metadata": {},
     "output_type": "execute_result"
    }
   ],
   "source": [
    "train, validate, test = \\\n",
    "              np.split(cells.sample(frac=1, random_state=65), \n",
    "                       [int(.75*len(cells)), int(.875*len(cells))])\n",
    "len(train), len(validate), len(test)"
   ]
  },
  {
   "cell_type": "code",
   "execution_count": 37,
   "id": "6f0eede3",
   "metadata": {},
   "outputs": [
    {
     "data": {
      "text/plain": [
       "0.6666666666666666"
      ]
     },
     "execution_count": 37,
     "metadata": {},
     "output_type": "execute_result"
    }
   ],
   "source": [
    "validate['Prediction'] = validate.get(['Age', 'Menopause', 'TumorSize', 'InvNodes', 'NodeCaps', 'DegMalig', 'Breast', 'BreastQuad','Irradiat']).apply(compute_smooth_naive_bayes, axis=1)\n",
    "accuracy = len(validate[validate['Class'] == validate['Prediction']]) / len(validate)\n",
    "accuracy"
   ]
  },
  {
   "cell_type": "code",
   "execution_count": 38,
   "id": "030750f4",
   "metadata": {},
   "outputs": [
    {
     "data": {
      "text/plain": [
       "0.8333333333333334"
      ]
     },
     "execution_count": 38,
     "metadata": {},
     "output_type": "execute_result"
    }
   ],
   "source": [
    "test['Prediction'] = test.get(['Age', 'Menopause', 'TumorSize', 'InvNodes', 'NodeCaps', 'DegMalig', 'Breast', 'BreastQuad','Irradiat']).apply(compute_smooth_naive_bayes, axis=1)\n",
    "accuracy_test = len(test[test['Class'] == test['Prediction']]) / len(test)\n",
    "accuracy_test"
   ]
  },
  {
   "cell_type": "markdown",
   "id": "95460c0c",
   "metadata": {},
   "source": [
    "As we can see, compared to the validation and test accuracy from the first prediction, this prediction accuracy varied dratically because we had different samples. This is an example where the sample size is too small, so you get a different accuracy every single time you compute naive bayes on a different sample."
   ]
  },
  {
   "cell_type": "markdown",
   "id": "ce401327",
   "metadata": {},
   "source": [
    "## Conclusion\n",
    "We seen a lot throughout this project. We seen how to analyze the features to use as well as how to implement a naive bayes algorithm with and without smoothing. We saw that this algorithm relies on what kind of dataset you have. If you have a dataset with too much noise, or a sample that is too small, then there will be skewed results. Thank you for reading!"
   ]
  },
  {
   "cell_type": "code",
   "execution_count": null,
   "id": "37cb2b61",
   "metadata": {},
   "outputs": [],
   "source": []
  }
 ],
 "metadata": {
  "kernelspec": {
   "display_name": "Python 3 (ipykernel)",
   "language": "python",
   "name": "python3"
  },
  "language_info": {
   "codemirror_mode": {
    "name": "ipython",
    "version": 3
   },
   "file_extension": ".py",
   "mimetype": "text/x-python",
   "name": "python",
   "nbconvert_exporter": "python",
   "pygments_lexer": "ipython3",
   "version": "3.9.6"
  }
 },
 "nbformat": 4,
 "nbformat_minor": 5
}
